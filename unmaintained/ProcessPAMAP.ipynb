{
 "cells": [
  {
   "cell_type": "code",
   "execution_count": 1,
   "metadata": {},
   "outputs": [],
   "source": [
    "# !wget https://archive.ics.uci.edu/ml/machine-learning-databases/00231/PAMAP2_Dataset.zip"
   ]
  },
  {
   "cell_type": "code",
   "execution_count": 1,
   "metadata": {},
   "outputs": [],
   "source": [
    "import numpy as np\n",
    "import pickle\n",
    "import torch"
   ]
  },
  {
   "cell_type": "code",
   "execution_count": 24,
   "metadata": {},
   "outputs": [],
   "source": [
    "_data = []\n",
    "_label = []\n",
    "_lens = []\n",
    "for i in range(1,10):\n",
    "    with open('./PAMAP2_Dataset/Protocol/subject10'+str(i)+'.dat','r') as f:\n",
    "        _lines =f.readlines()\n",
    "    _cnt =0\n",
    "    for l in _lines:\n",
    "        lsp = l.replace('NaN','0')\n",
    "        lsp = lsp.split(' ')\n",
    "        if int(lsp[1]) == 0:\n",
    "            continue\n",
    "        _label.append(int(lsp[1]))\n",
    "        _data.append([ float(k) for k in lsp[2:]  ])\n",
    "        _cnt+=1\n",
    "    _lens.append(_cnt)\n",
    "\n",
    "        "
   ]
  },
  {
   "cell_type": "code",
   "execution_count": 25,
   "metadata": {},
   "outputs": [],
   "source": [
    "_data = np.asarray(_data)\n",
    "_label = np.asarray(_label)\n",
    "\n"
   ]
  },
  {
   "cell_type": "code",
   "execution_count": 26,
   "metadata": {},
   "outputs": [
    {
     "data": {
      "text/plain": [
       "1295248.0"
      ]
     },
     "execution_count": 26,
     "metadata": {},
     "output_type": "execute_result"
    }
   ],
   "source": [
    "(2/3)*len(_data) #2/3 for train "
   ]
  },
  {
   "cell_type": "code",
   "execution_count": 27,
   "metadata": {},
   "outputs": [
    {
     "data": {
      "text/plain": [
       "array([ 1,  2,  3,  4,  5,  6,  7, 12, 13, 16, 17, 24])"
      ]
     },
     "execution_count": 27,
     "metadata": {},
     "output_type": "execute_result"
    }
   ],
   "source": [
    "np.unique(_label)"
   ]
  },
  {
   "cell_type": "code",
   "execution_count": 28,
   "metadata": {},
   "outputs": [],
   "source": [
    "#correct label map \n",
    "_label[_label==1] = 0\n",
    "_label[_label==2] = 1\n",
    "_label[_label==3] = 2\n",
    "_label[_label==4] = 3\n",
    "_label[_label==5] = 4\n",
    "_label[_label==6] = 5\n",
    "_label[_label==7] = 6\n",
    "_label[_label==12] = 7\n",
    "_label[_label==13] = 8\n",
    "_label[_label==16] = 9\n",
    "_label[_label==17] = 10\n",
    "_label[_label==24] = 11"
   ]
  },
  {
   "cell_type": "code",
   "execution_count": 29,
   "metadata": {},
   "outputs": [
    {
     "data": {
      "text/plain": [
       "array([ 0,  1,  2,  3,  4,  5,  6,  7,  8,  9, 10, 11])"
      ]
     },
     "execution_count": 29,
     "metadata": {},
     "output_type": "execute_result"
    }
   ],
   "source": [
    "np.unique(_label)"
   ]
  },
  {
   "cell_type": "code",
   "execution_count": 30,
   "metadata": {},
   "outputs": [],
   "source": [
    "data_dict = {}\n",
    "_one_hot = []\n",
    "for k in _label: \n",
    "    _arr =[0 for i in range(12)] \n",
    "    _arr[k] = 1\n",
    "    _one_hot.append(_arr)\n",
    "_one_hot = np.asarray(_one_hot)\n",
    "\n",
    "\n"
   ]
  },
  {
   "cell_type": "code",
   "execution_count": 31,
   "metadata": {},
   "outputs": [
    {
     "name": "stdout",
     "output_type": "stream",
     "text": [
      "[249957, 263349, 174338, 231421, 272442, 250096, 232776, 262102, 6391] [249957, 513306, 687644, 919065, 1191507, 1441603, 1674379, 1936481, 1942872]\n"
     ]
    }
   ],
   "source": [
    "_lensx = [] \n",
    "_lensx.append(_lens[0])\n",
    "for i in range(1,len(_lens)):\n",
    "    _lensx.append(_lens[i] + _lensx[i-1])\n",
    "print(_lens,_lensx)"
   ]
  },
  {
   "cell_type": "code",
   "execution_count": 66,
   "metadata": {},
   "outputs": [
    {
     "name": "stdout",
     "output_type": "stream",
     "text": [
      "0 166638 | 166638 249957\n",
      "249957 342204 | 342204 513306\n",
      "513306 458429 | 458429 687644\n",
      "687644 612710 | 612710 919065\n",
      "919065 794338 | 794338 1191507\n",
      "1191507 961068 | 961068 1441603\n",
      "1441603 1116252 | 1116252 1674379\n",
      "1674379 1290987 | 1290987 1936481\n",
      "1936481 1295248 | 1295248 1942872\n"
     ]
    }
   ],
   "source": [
    "prevk = 0\n",
    "\n",
    "for k in _lensx: \n",
    "    twothirds = int((2/3)*k)\n",
    "    endthird = k- twothirds\n",
    "    \n",
    "    print(prevk,twothirds,'|',twothirds,k)\n",
    "    prevk = k"
   ]
  },
  {
   "cell_type": "code",
   "execution_count": 75,
   "metadata": {},
   "outputs": [
    {
     "data": {
      "text/plain": [
       "0"
      ]
     },
     "execution_count": 75,
     "metadata": {},
     "output_type": "execute_result"
    }
   ],
   "source": [
    "0%2 "
   ]
  },
  {
   "cell_type": "code",
   "execution_count": 108,
   "metadata": {},
   "outputs": [],
   "source": [
    "_label_train = []\n",
    "_label_test = []\n",
    "_one_hot_train = []\n",
    "_one_hot_test = []\n",
    "_data_train = [] \n",
    "_data_test = []\n",
    "prevk = 0\n",
    "for k in _lensx: \n",
    "    if prevk%2 == 0:\n",
    "\n",
    "        twothirds = int((2/3)*k)\n",
    "        endthird = k- twothirds\n",
    "    else:\n",
    "        twothirds = k-1\n",
    "        endthird = k\n",
    "    _label_train.append(_label[prevk:twothirds])\n",
    "    _label_test.append(_label[twothirds:k])\n",
    "    _one_hot_train.append(_one_hot[prevk:twothirds])\n",
    "    _one_hot_test.append(_one_hot[twothirds:k])\n",
    "    \n",
    "    _data_train.append(_data[prevk:twothirds])\n",
    "    _data_test.append(_data[twothirds:k])\n",
    "    prevk = k "
   ]
  },
  {
   "cell_type": "code",
   "execution_count": 109,
   "metadata": {},
   "outputs": [
    {
     "data": {
      "text/plain": [
       "((83319, 12), (83319, 52))"
      ]
     },
     "execution_count": 109,
     "metadata": {},
     "output_type": "execute_result"
    }
   ],
   "source": [
    "_one_hot_test[0].shape,_data_test[0].shape"
   ]
  },
  {
   "cell_type": "code",
   "execution_count": 110,
   "metadata": {},
   "outputs": [],
   "source": [
    "_label_train = np.concatenate(_label_train)\n",
    "_label_test = np.concatenate(_label_test)\n",
    "\n",
    "_one_hot_train = np.concatenate(_one_hot_train)\n",
    "_one_hot_test = np.concatenate(_one_hot_test)\n",
    "\n",
    "_data_train = np.concatenate(_data_train)\n",
    "_data_test = np.concatenate(_data_test)\n"
   ]
  },
  {
   "cell_type": "code",
   "execution_count": 111,
   "metadata": {},
   "outputs": [
    {
     "data": {
      "text/plain": [
       "(array([ 0,  1,  2,  3,  4,  5,  6,  7,  8,  9, 10, 11]),\n",
       " array([ 0,  1,  2,  3,  4,  5,  6,  7,  8,  9, 10, 11]),\n",
       " 1453788,\n",
       " 618895)"
      ]
     },
     "execution_count": 111,
     "metadata": {},
     "output_type": "execute_result"
    }
   ],
   "source": [
    "np.unique(_label_train),np.unique(_label_test),len(_label_train),len(_label_test)"
   ]
  },
  {
   "cell_type": "code",
   "execution_count": 112,
   "metadata": {},
   "outputs": [
    {
     "data": {
      "text/plain": [
       "((1453788, 52), (618895, 52))"
      ]
     },
     "execution_count": 112,
     "metadata": {},
     "output_type": "execute_result"
    }
   ],
   "source": [
    "_data_train.shape,_data_test.shape"
   ]
  },
  {
   "cell_type": "code",
   "execution_count": 113,
   "metadata": {},
   "outputs": [],
   "source": [
    "data_dict['Y_train'] = torch.from_numpy(_label_train[:,None,None]).type(torch.long)\n",
    "data_dict['Y_train_onehot'] = torch.from_numpy(_one_hot_train[:,None,:]).type(torch.float)\n",
    "data_dict['Y_test'] = torch.from_numpy(_label_test[:,None,None]).type(torch.long)\n",
    "data_dict['Y_test_onehot'] = torch.from_numpy(_one_hot_test[:,None,:]).type(torch.float)"
   ]
  },
  {
   "cell_type": "code",
   "execution_count": 114,
   "metadata": {},
   "outputs": [],
   "source": [
    "# _data_train = _data[:1915022]\n",
    "# _data_test = _data[1915022:]\n"
   ]
  },
  {
   "cell_type": "code",
   "execution_count": 115,
   "metadata": {},
   "outputs": [],
   "source": [
    "for i in range(_data_train.shape[1]): \n",
    "    _mean = _data_train[:,i].mean()\n",
    "    _std = _data_train[:,i].std()\n",
    "    _data_train[:,i]= (_data_train[:,i]-_mean)/_std\n",
    "    _data_test[:,i]= (_data_test[:,i]-_mean)/_std\n"
   ]
  },
  {
   "cell_type": "code",
   "execution_count": 118,
   "metadata": {},
   "outputs": [],
   "source": [
    "\n",
    "data_dict['X_train'] = torch.from_numpy(_data_train[:,None,:]).type(torch.float)\n",
    "data_dict['X_test']  = torch.from_numpy(_data_test[:,None,:]).type(torch.float)\n",
    "\n"
   ]
  },
  {
   "cell_type": "code",
   "execution_count": 119,
   "metadata": {},
   "outputs": [],
   "source": [
    "with open(\"./PAMP.pkl\",\"wb\") as f:\n",
    "    pickle.dump(data_dict,f)"
   ]
  },
  {
   "cell_type": "code",
   "execution_count": 13,
   "metadata": {},
   "outputs": [],
   "source": [
    "# 1timestamp\n",
    "# (s)–2activityID \n",
    "# (see II.2. for the mapping to the activities)–3heart rate (bpm)–4-20IMU hand–21-37IMU chest–38-54IMU ankle"
   ]
  },
  {
   "cell_type": "code",
   "execution_count": 16,
   "metadata": {},
   "outputs": [
    {
     "data": {
      "text/plain": [
       "torch.float64"
      ]
     },
     "execution_count": 16,
     "metadata": {},
     "output_type": "execute_result"
    }
   ],
   "source": [
    "data_dict['X_train'].dtype"
   ]
  },
  {
   "cell_type": "code",
   "execution_count": 11,
   "metadata": {},
   "outputs": [
    {
     "data": {
      "text/plain": [
       "torch.int64"
      ]
     },
     "execution_count": 11,
     "metadata": {},
     "output_type": "execute_result"
    }
   ],
   "source": [
    "data_dict['Y_train'].dtype"
   ]
  },
  {
   "cell_type": "code",
   "execution_count": 17,
   "metadata": {},
   "outputs": [
    {
     "data": {
      "text/plain": [
       "torch.int64"
      ]
     },
     "execution_count": 17,
     "metadata": {},
     "output_type": "execute_result"
    }
   ],
   "source": [
    "data_dict['Y_train_onehot'].dtype"
   ]
  },
  {
   "cell_type": "code",
   "execution_count": 17,
   "metadata": {},
   "outputs": [],
   "source": [
    "import torch"
   ]
  },
  {
   "cell_type": "code",
   "execution_count": 18,
   "metadata": {},
   "outputs": [
    {
     "data": {
      "text/plain": [
       "torch.int64"
      ]
     },
     "execution_count": 18,
     "metadata": {},
     "output_type": "execute_result"
    }
   ],
   "source": [
    "torch.long"
   ]
  },
  {
   "cell_type": "code",
   "execution_count": 16,
   "metadata": {},
   "outputs": [
    {
     "data": {
      "text/plain": [
       "torch.Size([1915022, 1, 52])"
      ]
     },
     "execution_count": 16,
     "metadata": {},
     "output_type": "execute_result"
    }
   ],
   "source": [
    "data_dict['X_train'].shape"
   ]
  },
  {
   "cell_type": "code",
   "execution_count": 27,
   "metadata": {},
   "outputs": [],
   "source": [
    "import matplotlib.pyplot as plt\n",
    "%matplotlib inline"
   ]
  },
  {
   "cell_type": "code",
   "execution_count": 30,
   "metadata": {},
   "outputs": [
    {
     "data": {
      "text/plain": [
       "(array([377711., 189931., 238761.,  85546., 164600., 188107., 117216.,\n",
       "        104944., 175353., 272853.]),\n",
       " array([ 0. ,  1.1,  2.2,  3.3,  4.4,  5.5,  6.6,  7.7,  8.8,  9.9, 11. ]),\n",
       " <a list of 10 Patch objects>)"
      ]
     },
     "execution_count": 30,
     "metadata": {},
     "output_type": "execute_result"
    },
    {
     "data": {
      "image/png": "[encoded data removed]",
      "text/plain": [
       "<Figure size 1440x720 with 1 Axes>"
      ]
     },
     "metadata": {
      "needs_background": "light"
     },
     "output_type": "display_data"
    }
   ],
   "source": [
    "plt.figure(figsize=(20,10))\n",
    "plt.hist(data_dict['Y_train'].squeeze())"
   ]
  },
  {
   "cell_type": "code",
   "execution_count": 18,
   "metadata": {},
   "outputs": [
    {
     "data": {
      "text/plain": [
       "torch.Size([1915022, 1, 12])"
      ]
     },
     "execution_count": 18,
     "metadata": {},
     "output_type": "execute_result"
    }
   ],
   "source": [
    "data_dict['Y_train_onehot'].shape"
   ]
  },
  {
   "cell_type": "code",
   "execution_count": 19,
   "metadata": {},
   "outputs": [
    {
     "data": {
      "text/plain": [
       "64"
      ]
     },
     "execution_count": 19,
     "metadata": {},
     "output_type": "execute_result"
    }
   ],
   "source": [
    "12+52"
   ]
  },
  {
   "cell_type": "code",
   "execution_count": null,
   "metadata": {},
   "outputs": [],
   "source": []
  }
 ],
 "metadata": {
  "kernelspec": {
   "display_name": "Python 3",
   "language": "python",
   "name": "python3"
  },
  "language_info": {
   "codemirror_mode": {
    "name": "ipython",
    "version": 3
   },
   "file_extension": ".py",
   "mimetype": "text/x-python",
   "name": "python",
   "nbconvert_exporter": "python",
   "pygments_lexer": "ipython3",
   "version": "3.6.9"
  }
 },
 "nbformat": 4,
 "nbformat_minor": 4
}
